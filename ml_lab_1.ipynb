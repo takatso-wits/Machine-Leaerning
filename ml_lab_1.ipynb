{
 "cells": [
  {
   "cell_type": "code",
   "execution_count": 2,
   "metadata": {},
   "outputs": [],
   "source": [
    "from sklearn import datasets\n",
    "from sklearn import metrics\n",
    "import numpy as np\n",
    "import pandas as pd\n",
    "import math\n",
    "import random\n",
    "from sklearn.naive_bayes import GaussianNB"
   ]
  },
  {
   "cell_type": "code",
   "execution_count": 3,
   "metadata": {},
   "outputs": [],
   "source": [
    "feature_names = np.array(['word', 'negative', 'positive']) # List of feature names"
   ]
  },
  {
   "cell_type": "code",
   "execution_count": 4,
   "metadata": {},
   "outputs": [],
   "source": [
    "# Reading in the data points\n",
    "data_file = open('simple-food-reviews.txt', 'r')\n",
    "data_string = data_file.read()\n",
    "full_data = np.array(data_string.split('\\n'))\n",
    "np.random.shuffle(full_data)\n",
    "training_data = full_data[0:12]\n",
    "test_data = full_data[13:19]"
   ]
  },
  {
   "cell_type": "code",
   "execution_count": 5,
   "metadata": {
    "scrolled": true
   },
   "outputs": [
    {
     "data": {
      "text/plain": [
       "(array(['-1', '1', 'a', 'and', 'at', 'avoid', 'bad', 'enjoyed',\n",
       "        'experience', 'food', 'great', 'had', 'i', 'is', 'lovely', 'meal',\n",
       "        'my', 'really', 'restaurant', 'service', 'tasted', 'terrible',\n",
       "        'the', 'this', 'was', 'we', 'what'], dtype='<U10'),\n",
       " array([7, 5, 4, 1, 1, 2, 2, 1, 1, 4, 2, 1, 1, 3, 2, 2, 1, 1, 5, 2, 1, 3,\n",
       "        8, 3, 3, 1, 1]))"
      ]
     },
     "execution_count": 5,
     "metadata": {},
     "output_type": "execute_result"
    }
   ],
   "source": [
    "def word_count(data):\n",
    "    training_data = \"\"\n",
    "    for i in range(len(data)):\n",
    "        training_data += data[i]+ \" \"\n",
    "    \n",
    "    training_data = training_data.split()\n",
    "    arr, counts = np.unique(training_data, return_counts = True)\n",
    "    return (arr, counts)\n",
    "\n",
    "word_count(training_data)\n"
   ]
  },
  {
   "cell_type": "code",
   "execution_count": 10,
   "metadata": {},
   "outputs": [
    {
     "data": {
      "text/plain": [
       "(0.5833333333333334,\n",
       " 0.4166666666666667,\n",
       " array([0.75      , 0.        , 1.        , 0.        , 0.        ,\n",
       "        1.        , 1.        , 0.25      , 1.        , 1.        ,\n",
       "        1.        , 0.33333333, 1.        , 0.5       , 1.        ,\n",
       "        0.        , 0.6       , 0.        , 1.        , 0.        ,\n",
       "        0.25      , 0.33333333, 0.        , 1.        , 1.        ]),\n",
       " array([0.25      , 1.        , 0.        , 1.        , 1.        ,\n",
       "        0.        , 0.        , 0.75      , 0.        , 0.        ,\n",
       "        0.        , 0.66666667, 0.        , 0.5       , 0.        ,\n",
       "        1.        , 0.4       , 1.        , 0.        , 1.        ,\n",
       "        0.75      , 0.66666667, 1.        , 0.        , 0.        ]))"
      ]
     },
     "execution_count": 10,
     "metadata": {},
     "output_type": "execute_result"
    }
   ],
   "source": [
    "#Calculate Priors\n",
    "def priors(data):\n",
    "    words, total_wc = word_count(data)\n",
    "    words = words[2:]\n",
    "    total_wc = total_wc[2:]\n",
    "    \n",
    "    neg = \"-\"\n",
    "    negative_review = \" \"\n",
    "    positive_review = \" \"\n",
    "    p_c = 0\n",
    "    n_c = 0\n",
    "    wc = np.zeros(words.shape[0])\n",
    "    \n",
    "    #From the training data we want to seperate neg and pos rev's\n",
    "    i = 0\n",
    "    while i < len(data):\n",
    "        if data[i][0] == neg:\n",
    "            negative_review += data[i] + \" \"\n",
    "            i += 1\n",
    "            n_c += 1\n",
    "        else:\n",
    "            positive_review += data[i] + \" \"\n",
    "            i += 1\n",
    "            p_c += 1\n",
    "\n",
    "    #Overall Probabilities\n",
    "    prob_neg_rev = n_c/len(data)\n",
    "    prob_pos_rev = p_c/len(data)\n",
    "\n",
    "    nr, nr_c = np.unique(negative_review.split(), return_counts=True)\n",
    "    pr, pr_c = np.unique(positive_review.split(), return_counts=True)\n",
    "\n",
    "    #We want to ignore '-1' and '1'\n",
    "    nr = nr[1:]\n",
    "    nr_c = nr_c[1:]\n",
    "    pr = pr[1:]\n",
    "    pr_c = pr_c[1:]\n",
    "    \n",
    "    prob_neg = np.zeros(words.shape[0])\n",
    "    prob_pos = np.zeros(words.shape[0])\n",
    "    \n",
    "    for i in range(len(words)):\n",
    "        for j in range(len(nr)):\n",
    "            if words[i] == nr[j]:\n",
    "                prob_neg[i] = nr_c[j]/total_wc[i]\n",
    "    \n",
    "    for i in range(len(words)):\n",
    "        for j in range(len(pr)):\n",
    "            if words[i] == pr[j]:\n",
    "                prob_pos[i] = pr_c[j]/total_wc[i]\n",
    "     \n",
    "    return prob_neg_rev, prob_pos_rev, prob_pos, prob_neg\n",
    "\n",
    "priors(training_data)  "
   ]
  },
  {
   "cell_type": "code",
   "execution_count": 12,
   "metadata": {},
   "outputs": [
    {
     "name": "stdout",
     "output_type": "stream",
     "text": [
      "[0. 0. 0. 0. 0. 0. 0. 0. 0. 0. 0. 0. 0. 0. 0. 0. 0. 0. 0. 0. 0. 0. 0. 0.\n",
      " 0.]\n",
      "\n",
      "['a' 'and' 'at' 'avoid' 'bad' 'enjoyed' 'experience' 'food' 'great' 'had'\n",
      " 'i' 'is' 'lovely' 'meal' 'my' 'really' 'restaurant' 'service' 'tasted'\n",
      " 'terrible' 'the' 'this' 'was' 'we' 'what']\n",
      "[4 1 1 2 2 1 1 4 2 1 1 3 2 2 1 1 5 2 1 3 8 3 3 1 1]\n",
      "\n",
      "['a' 'and' 'avoid' 'bad' 'food' 'is' 'meal' 'really' 'restaurant'\n",
      " 'service' 'terrible' 'the' 'this' 'was']\n",
      "[1 1 2 2 3 2 1 1 2 2 3 6 2 3]\n",
      "\n",
      "['a' 'at' 'enjoyed' 'experience' 'food' 'great' 'had' 'i' 'is' 'lovely'\n",
      " 'meal' 'my' 'restaurant' 'tasted' 'the' 'this' 'we' 'what']\n",
      "[3 1 1 1 1 2 1 1 1 2 1 1 3 1 2 1 1 1]\n",
      "\n",
      "[0.25       1.         0.         1.         1.         0.\n",
      " 0.         0.75       0.         0.         0.         0.66666667\n",
      " 0.         0.5        0.         1.         0.4        1.\n",
      " 0.         1.         0.75       0.66666667 1.         0.\n",
      " 0.        ]\n",
      "\n",
      "[0.75       0.         1.         0.         0.         1.\n",
      " 1.         0.25       1.         1.         1.         0.33333333\n",
      " 1.         0.5        1.         0.         0.6        0.\n",
      " 1.         0.         0.25       0.33333333 0.         1.\n",
      " 1.        ]\n",
      "\n",
      "\n",
      "[1. 1. 1. 1. 1. 1. 1. 1. 1. 1. 1. 1. 1. 1. 1. 1. 1. 1. 1. 1. 1. 1. 1. 1.\n",
      " 1.]\n"
     ]
    }
   ],
   "source": [
    "#Differentiate Reviews and ignore '1' and '-1'\n",
    "words, total_wc = word_count(training_data)\n",
    "words = words[2:]\n",
    "total_wc = total_wc[2:]\n",
    "\n",
    "neg = \"-\"\n",
    "negative_review = \" \"\n",
    "positive_review = \" \"\n",
    "wc = np.zeros(words.shape[0])\n",
    "\n",
    "\n",
    "#From the training data we want to seperate neg and pos rev's\n",
    "for i in range(len(training_data)):\n",
    "    if training_data[i][0] == neg:\n",
    "        negative_review += training_data[i] + \" \"\n",
    "    else:\n",
    "        positive_review += training_data[i] + \" \"\n",
    "\n",
    "#Now we want to count and compare\n",
    "\n",
    "nr, nr_c = np.unique(negative_review.split(), return_counts=True)\n",
    "pr, pr_c = np.unique(positive_review.split(), return_counts=True)\n",
    "\n",
    "nr = nr[1:]\n",
    "nr_c = nr_c[1:]\n",
    "pr = pr[1:]\n",
    "pr_c = pr_c[1:]\n",
    "print(wc)\n",
    "print()\n",
    "\n",
    "print(words)\n",
    "print(total_wc)\n",
    "\n",
    "print()\n",
    "\n",
    "print(nr)\n",
    "print(nr_c)\n",
    "\n",
    "print()\n",
    "\n",
    "print(pr)\n",
    "print(pr_c)\n",
    "print()\n",
    "\n",
    "prob_neg = np.zeros(words.shape[0])\n",
    "prob_pos = np.zeros(words.shape[0])\n",
    "\n",
    "for i in range(len(words)):\n",
    "    for j in range(len(nr)):\n",
    "        if words[i] == nr[j]:\n",
    "            prob_neg[i] = nr_c[j]/total_wc[i]\n",
    "    \n",
    "    for j in range(len(pr)):\n",
    "        if words[i] == pr[j]:\n",
    "            prob_pos[i] = pr_c[j]/total_wc[i]\n",
    "\n",
    "print(prob_neg)\n",
    "print()\n",
    "print(prob_pos)\n",
    "print(\"\\n\")\n",
    "print(prob_neg + prob_pos)\n"
   ]
  },
  {
   "cell_type": "code",
   "execution_count": 91,
   "metadata": {},
   "outputs": [
    {
     "data": {
      "text/plain": [
       "18"
      ]
     },
     "execution_count": 91,
     "metadata": {},
     "output_type": "execute_result"
    }
   ],
   "source": [
    "def do_laplace_smoothing(data):\n",
    "    laplace_smoothing = 1.0\n",
    "    negative_review = \" \"\n",
    "    positive_review = \" \"\n",
    "    wc = np.zeros(words.shape[0])\n",
    "    \n",
    "    for i in range(len(data)):\n",
    "        if data[i][0] == neg:\n",
    "            negative_review += data[i] + \" \"\n",
    "        else:\n",
    "            positive_review += data[i] + \" \"\n",
    "            \n",
    "    nr, nr_c = np.unique(negative_review.split(), return_counts=True)\n",
    "    pr, pr_c = np.unique(positive_review.split(), return_counts=True)\n",
    "    \n",
    "    return len(nr)\n",
    "   \n",
    "do_laplace_smoothing(training_data)"
   ]
  },
  {
   "cell_type": "code",
   "execution_count": 26,
   "metadata": {},
   "outputs": [
    {
     "name": "stdout",
     "output_type": "stream",
     "text": [
      "['1 i enjoyed the experience at the restaurant' '1 the service was great'\n",
      " '1 i really enjoyed my food' '-1 the meal was terrible'\n",
      " '-1 this is a bad restaurant  ' '-1 avoid this restaurant'\n",
      " '1 the food is lovely'\n",
      " '1 the food the service and the restaurant was great'\n",
      " '1 my food tasted great' '-1 the food was really bad'\n",
      " '1 what a lovely restaurant' '-1 the service is terrible'] 12\n"
     ]
    }
   ],
   "source": [
    "np.random.shuffle(full_data)\n",
    "training_data = np.array(full_data[slice(12)])\n",
    "print(training_data, len(training_data))"
   ]
  },
  {
   "cell_type": "code",
   "execution_count": 66,
   "metadata": {},
   "outputs": [],
   "source": [
    "negative, positive = count_appearance(training_data)"
   ]
  },
  {
   "cell_type": "code",
   "execution_count": 67,
   "metadata": {},
   "outputs": [],
   "source": [
    "prob_neg = negative/len(training_data)\n",
    "prob_pos = positive/len(training_data)\n"
   ]
  },
  {
   "cell_type": "code",
   "execution_count": 68,
   "metadata": {},
   "outputs": [
    {
     "name": "stdout",
     "output_type": "stream",
     "text": [
      "0.4166666666666667\n",
      "0.5833333333333334\n"
     ]
    }
   ],
   "source": [
    "print(prob_neg)\n",
    "print(prob_pos)"
   ]
  },
  {
   "cell_type": "code",
   "execution_count": 85,
   "metadata": {},
   "outputs": [],
   "source": [
    "def word_prob(data):\n",
    "    c_lovely = 0\n",
    "    c_enjoyed = 0\n",
    "    c_great = 0\n",
    "    c_avoid = 0\n",
    "    c_terrible = 0\n",
    "    c_awful = 0\n",
    "    c_bad = 0\n",
    "    \n",
    "    for i in range(len(data)):\n",
    "        if('lovely' in data[i]):\n",
    "            c_lovely = c_lovely + 1\n",
    "        elif('great' in data[i]):\n",
    "            c_great = c_great + 1\n",
    "        elif('enjoyed' in data[i]):\n",
    "            c_enjoyed = c_enjoyed + 1\n",
    "        elif('terrible' in data[i]):\n",
    "            c_terrible = c_terrible + 1\n",
    "        elif('awful' in data[i]):\n",
    "            c_awful = c_awful + 1\n",
    "        elif('bad' in data[i]):\n",
    "            c_bad = c_bad + 1\n",
    "        elif('avoid' in data[i]):\n",
    "            c_avoid = c_avoid + 1\n",
    "    \n",
    "    return c_lovely, c_enjoyed, c_great, c_avoid, c_terrible, c_awful, c_bad"
   ]
  },
  {
   "cell_type": "code",
   "execution_count": 86,
   "metadata": {},
   "outputs": [
    {
     "data": {
      "text/plain": [
       "(2, 2, 3, 1, 2, 0, 2)"
      ]
     },
     "execution_count": 86,
     "metadata": {},
     "output_type": "execute_result"
    }
   ],
   "source": [
    "word_prob(training_data)"
   ]
  },
  {
   "cell_type": "code",
   "execution_count": null,
   "metadata": {},
   "outputs": [],
   "source": []
  }
 ],
 "metadata": {
  "kernelspec": {
   "display_name": "Python 3",
   "language": "python",
   "name": "python3"
  },
  "language_info": {
   "codemirror_mode": {
    "name": "ipython",
    "version": 3
   },
   "file_extension": ".py",
   "mimetype": "text/x-python",
   "name": "python",
   "nbconvert_exporter": "python",
   "pygments_lexer": "ipython3",
   "version": "3.7.4"
  }
 },
 "nbformat": 4,
 "nbformat_minor": 2
}
