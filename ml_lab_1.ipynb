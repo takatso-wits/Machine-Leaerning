{
 "cells": [
  {
   "cell_type": "code",
   "execution_count": 49,
   "metadata": {},
   "outputs": [],
   "source": [
    "from sklearn import datasets\n",
    "from sklearn import metrics\n",
    "import numpy as np\n",
    "import pandas as pd\n",
    "import math\n",
    "import random\n",
    "from sklearn.naive_bayes import GaussianNB"
   ]
  },
  {
   "cell_type": "code",
   "execution_count": 50,
   "metadata": {},
   "outputs": [],
   "source": [
    "feature_names = np.array(['word', 'negative', 'positive']) # List of feature names\n"
   ]
  },
  {
   "cell_type": "code",
   "execution_count": 106,
   "metadata": {},
   "outputs": [
    {
     "name": "stdout",
     "output_type": "stream",
     "text": [
      "['1 what a lovely restaurant' '1 the food is lovely'\n",
      " '-1 avoid this restaurant' '-1 the service and the food was terrible'\n",
      " '1 i enjoyed the experience at the restaurant' '-1 avoid the food'\n",
      " '1 we had a lovely meal' '-1 the meal was terrible'\n",
      " '-1 the service is terrible' '-1 this is a bad restaurant  '\n",
      " '1 i really enjoyed my food' '-1 we had a terrible experience']\n"
     ]
    }
   ],
   "source": [
    "# Reading in the data points\n",
    "data_file = open('simple-food-reviews.txt', 'r')\n",
    "data_string = data_file.read()\n",
    "full_data = np.array(data_string.split('\\n'))\n",
    "np.random.shuffle(full_data)\n",
    "training_data = full_data[0:12]\n",
    "print(training_data)"
   ]
  },
  {
   "cell_type": "code",
   "execution_count": 97,
   "metadata": {
    "scrolled": true
   },
   "outputs": [],
   "source": [
    "def new_string(data):\n",
    "    \n",
    "    training_array =''\n",
    "    \n",
    "    for i in range(len(data) - 7):\n",
    "        training_array += data[i]+\" \"\n",
    "    \n",
    "    return np.unique(tdr, return_counts = True)"
   ]
  },
  {
   "cell_type": "code",
   "execution_count": 108,
   "metadata": {},
   "outputs": [
    {
     "name": "stdout",
     "output_type": "stream",
     "text": [
      "['' '-1' '1' 'a' 'and' 'avoid' 'awful' 'bad' 'enjoyed' 'food' 'great'\n",
      " 'had' 'i' 'is' 'lovely' 'meal' 'my' 'really' 'restaurant' 'service'\n",
      " 'tasted' 'terrible' 'the' 'this' 'was' 'we']\n",
      "[3 7 5 3 1 2 1 1 1 6 2 1 1 4 2 2 2 1 3 2 2 3 7 3 2 1]\n",
      "53\n",
      "['1 what a lovely restaurant' '1 the food is lovely'\n",
      " '-1 avoid this restaurant' '-1 the service and the food was terrible'\n",
      " '1 i enjoyed the experience at the restaurant' '-1 avoid the food'\n",
      " '1 we had a lovely meal' '-1 the meal was terrible'\n",
      " '-1 the service is terrible' '-1 this is a bad restaurant  '\n",
      " '1 i really enjoyed my food' '-1 we had a terrible experience']\n"
     ]
    }
   ],
   "source": [
    "arr, counts = new_string(training_data)\n",
    "\n",
    "print(arr)\n",
    "print(counts)\n",
    "\n",
    "print(sum(counts[3:len(counts)]))\n",
    "\n",
    "print(training_data)\n",
    "\n"
   ]
  },
  {
   "cell_type": "code",
   "execution_count": 26,
   "metadata": {},
   "outputs": [
    {
     "name": "stdout",
     "output_type": "stream",
     "text": [
      "['1 i enjoyed the experience at the restaurant' '1 the service was great'\n",
      " '1 i really enjoyed my food' '-1 the meal was terrible'\n",
      " '-1 this is a bad restaurant  ' '-1 avoid this restaurant'\n",
      " '1 the food is lovely'\n",
      " '1 the food the service and the restaurant was great'\n",
      " '1 my food tasted great' '-1 the food was really bad'\n",
      " '1 what a lovely restaurant' '-1 the service is terrible'] 12\n"
     ]
    }
   ],
   "source": [
    "np.random.shuffle(full_data)\n",
    "training_data = np.array(full_data[slice(12)])\n",
    "print(training_data, len(training_data))"
   ]
  },
  {
   "cell_type": "code",
   "execution_count": 64,
   "metadata": {},
   "outputs": [],
   "source": [
    "def count_appearance(data):\n",
    "    neg = 0\n",
    "    pos = 0\n",
    "    for i in range(len(data)):\n",
    "        if(data[i][0] == '1'):\n",
    "            pos = pos + 1\n",
    "        else:\n",
    "            neg = neg + 1\n",
    "    return neg, pos"
   ]
  },
  {
   "cell_type": "code",
   "execution_count": 66,
   "metadata": {},
   "outputs": [],
   "source": [
    "negative, positive = count_appearance(training_data)"
   ]
  },
  {
   "cell_type": "code",
   "execution_count": 67,
   "metadata": {},
   "outputs": [],
   "source": [
    "prob_neg = negative/len(training_data)\n",
    "prob_pos = positive/len(training_data)\n"
   ]
  },
  {
   "cell_type": "code",
   "execution_count": 68,
   "metadata": {},
   "outputs": [
    {
     "name": "stdout",
     "output_type": "stream",
     "text": [
      "0.4166666666666667\n",
      "0.5833333333333334\n"
     ]
    }
   ],
   "source": [
    "print(prob_neg)\n",
    "print(prob_pos)"
   ]
  },
  {
   "cell_type": "code",
   "execution_count": 85,
   "metadata": {},
   "outputs": [],
   "source": [
    "def word_prob(data):\n",
    "    c_lovely = 0\n",
    "    c_enjoyed = 0\n",
    "    c_great = 0\n",
    "    c_avoid = 0\n",
    "    c_terrible = 0\n",
    "    c_awful = 0\n",
    "    c_bad = 0\n",
    "    \n",
    "    for i in range(len(data)):\n",
    "        if('lovely' in data[i]):\n",
    "            c_lovely = c_lovely + 1\n",
    "        elif('great' in data[i]):\n",
    "            c_great = c_great + 1\n",
    "        elif('enjoyed' in data[i]):\n",
    "            c_enjoyed = c_enjoyed + 1\n",
    "        elif('terrible' in data[i]):\n",
    "            c_terrible = c_terrible + 1\n",
    "        elif('awful' in data[i]):\n",
    "            c_awful = c_awful + 1\n",
    "        elif('bad' in data[i]):\n",
    "            c_bad = c_bad + 1\n",
    "        elif('avoid' in data[i]):\n",
    "            c_avoid = c_avoid + 1\n",
    "    \n",
    "    return c_lovely, c_enjoyed, c_great, c_avoid, c_terrible, c_awful, c_bad"
   ]
  },
  {
   "cell_type": "code",
   "execution_count": 86,
   "metadata": {},
   "outputs": [
    {
     "data": {
      "text/plain": [
       "(2, 2, 3, 1, 2, 0, 2)"
      ]
     },
     "execution_count": 86,
     "metadata": {},
     "output_type": "execute_result"
    }
   ],
   "source": [
    "word_prob(training_data)"
   ]
  },
  {
   "cell_type": "code",
   "execution_count": null,
   "metadata": {},
   "outputs": [],
   "source": []
  }
 ],
 "metadata": {
  "kernelspec": {
   "display_name": "Python 3",
   "language": "python",
   "name": "python3"
  },
  "language_info": {
   "codemirror_mode": {
    "name": "ipython",
    "version": 3
   },
   "file_extension": ".py",
   "mimetype": "text/x-python",
   "name": "python",
   "nbconvert_exporter": "python",
   "pygments_lexer": "ipython3",
   "version": "3.7.6"
  }
 },
 "nbformat": 4,
 "nbformat_minor": 2
}
