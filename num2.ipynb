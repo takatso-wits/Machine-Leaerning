{
 "cells": [
  {
   "cell_type": "code",
   "execution_count": 1,
   "metadata": {},
   "outputs": [],
   "source": [
    "import numpy as np\n"
   ]
  },
  {
   "cell_type": "code",
   "execution_count": 8,
   "metadata": {},
   "outputs": [],
   "source": [
    "training_data_x = [1,2,3,4,5]\n",
    "training_data_y = [1,3,2,3,5]\n",
    "\n",
    "row = 5\n",
    "col = 2\n",
    "\n",
    "X = np.zeros((row, col))\n",
    "\n",
    "for i in range(row):\n",
    "    X[i][0] = 1\n",
    "    \n",
    "for i in range(row):\n",
    "    X[i][1] = training_data_x[i]\n",
    "\n"
   ]
  },
  {
   "cell_type": "code",
   "execution_count": 17,
   "metadata": {},
   "outputs": [
    {
     "name": "stdout",
     "output_type": "stream",
     "text": [
      "[[1. 1.]\n",
      " [1. 2.]\n",
      " [1. 3.]\n",
      " [1. 4.]\n",
      " [1. 5.]]\n",
      "\n",
      "[0.4 0.8]\n"
     ]
    }
   ],
   "source": [
    "#Closed form \n",
    "print(X)\n",
    "print()\n",
    "print((np.linalg.inv(X.transpose().dot(X))).dot(X.transpose()).dot(training_data_y))"
   ]
  },
  {
   "cell_type": "code",
   "execution_count": null,
   "metadata": {},
   "outputs": [],
   "source": []
  }
 ],
 "metadata": {
  "kernelspec": {
   "display_name": "Python 3",
   "language": "python",
   "name": "python3"
  },
  "language_info": {
   "codemirror_mode": {
    "name": "ipython",
    "version": 3
   },
   "file_extension": ".py",
   "mimetype": "text/x-python",
   "name": "python",
   "nbconvert_exporter": "python",
   "pygments_lexer": "ipython3",
   "version": "3.7.4"
  }
 },
 "nbformat": 4,
 "nbformat_minor": 2
}
