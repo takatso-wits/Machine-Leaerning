{
 "cells": [
  {
   "cell_type": "code",
   "execution_count": 1,
   "metadata": {},
   "outputs": [],
   "source": [
    "import numpy as np\n"
   ]
  },
  {
   "cell_type": "code",
   "execution_count": 4,
   "metadata": {},
   "outputs": [
    {
     "name": "stdout",
     "output_type": "stream",
     "text": [
      "[-6.4  5.8]\n"
     ]
    }
   ],
   "source": [
    "# a...\n",
    "training_data_x = [1,2,3,4,5]\n",
    "training_data_y = [1,5,9,15,25]\n",
    "\n",
    "row = 5\n",
    "col = 2\n",
    "\n",
    "X = np.zeros((row, col))\n",
    "\n",
    "for i in range(row):\n",
    "    X[i][0] = 1\n",
    "    \n",
    "for i in range(row):\n",
    "    X[i][1] = training_data_x[i]\n",
    "\n",
    "print((np.linalg.inv(X.transpose().dot(X))).dot(X.transpose()).dot(training_data_y))"
   ]
  },
  {
   "cell_type": "code",
   "execution_count": 8,
   "metadata": {},
   "outputs": [
    {
     "name": "stdout",
     "output_type": "stream",
     "text": [
      "SSE =  7.799999999999988\n"
     ]
    }
   ],
   "source": [
    "#b... Calculate the training Error\n",
    "yHat = np.zeros(len(training_data_x))\n",
    "\n",
    "for i in range(len(training_data_x)):\n",
    "    yHat[i] = -6.4 + 5.8 * training_data_x[i]\n",
    "\n",
    "SSE = 0.0\n",
    "for i in range(len(yHat)):\n",
    "    SSE += 0.5 * (pow(yHat[i]-training_data_y[i],2))\n",
    "\n",
    "print(\"SSE = \", SSE)"
   ]
  },
  {
   "cell_type": "code",
   "execution_count": 25,
   "metadata": {},
   "outputs": [
    {
     "name": "stdout",
     "output_type": "stream",
     "text": [
      "[[ 1.  1.  1.]\n",
      " [ 1.  2.  4.]\n",
      " [ 1.  3.  9.]\n",
      " [ 1.  4. 16.]\n",
      " [ 1.  5. 25.]]\n",
      "\n",
      "[ 0.6 -0.2  1. ]\n",
      "\n",
      "0.8000000000000002\n"
     ]
    }
   ],
   "source": [
    "#c, d, e...\n",
    "col = 2\n",
    "features = [1,1,2]\n",
    "X = np.zeros((row, len(features)))\n",
    "\n",
    "for i in range(row):\n",
    "    X[i][0] = 1\n",
    "    \n",
    "for i in range(1,len(features)):\n",
    "    for j in range(row):\n",
    "        X[j][i] = pow(training_data_x[j],features[i])\n",
    "\n",
    "theta = (np.linalg.inv(X.transpose().dot(X))).dot(X.transpose()).dot(training_data_y)\n",
    "for i in range(len(training_data_x)):\n",
    "    yHat[i] = theta[0] + theta[1] * training_data_x[i] + theta[2] * pow(training_data_x[i],2)\n",
    "\n",
    "\n",
    "\n",
    "SSE = 0.0\n",
    "for i in range(len(yHat)):\n",
    "    SSE += 0.5 * (pow(yHat[i]-training_data_y[i],2))\n",
    "\n",
    "\n",
    "print(X)\n",
    "print()\n",
    "print(theta)\n",
    "print()\n",
    "print(SSE)"
   ]
  },
  {
   "cell_type": "code",
   "execution_count": 26,
   "metadata": {},
   "outputs": [
    {
     "name": "stdout",
     "output_type": "stream",
     "text": [
      "[[1.000e+00 1.000e+00 1.000e+00 1.000e+00 1.000e+00 1.000e+00]\n",
      " [1.000e+00 2.000e+00 4.000e+00 8.000e+00 1.600e+01 3.200e+01]\n",
      " [1.000e+00 3.000e+00 9.000e+00 2.700e+01 8.100e+01 2.430e+02]\n",
      " [1.000e+00 4.000e+00 1.600e+01 6.400e+01 2.560e+02 1.024e+03]\n",
      " [1.000e+00 5.000e+00 2.500e+01 1.250e+02 6.250e+02 3.125e+03]]\n",
      "\n",
      "[ 4.35776611e+02  3.04104004e+02 -5.19416504e+01 -1.38994141e+01\n",
      "  5.36730957e+00 -2.83152580e-01]\n",
      "\n",
      "14226426745.221554\n"
     ]
    }
   ],
   "source": [
    "#g...\n",
    "features = [1,1,2,3,4,5]\n",
    "X = np.zeros((row, len(features)))\n",
    "\n",
    "for i in range(row):\n",
    "    X[i][0] = 1\n",
    "    \n",
    "for i in range(1,len(features)):\n",
    "    for j in range(row):\n",
    "        X[j][i] = (pow(training_data_x[j],features[i]))\n",
    "\n",
    "theta = (np.linalg.inv(X.transpose().dot(X))).dot(X.transpose()).dot(training_data_y)\n",
    "for i in range(len(training_data_x)):\n",
    "    yHat[i] = theta[0] + theta[1] * training_data_x[i] + theta[2] * pow(training_data_x[i],2) + theta[3] * pow(training_data_x[i],3) + theta[4] * pow(training_data_x[i],4) + theta[2] * pow(training_data_x[i],5)\n",
    "\n",
    "SSE = 0.0\n",
    "for i in range(len(yHat)):\n",
    "    SSE += 0.5 * (pow(yHat[i]-training_data_y[i],2))\n",
    "\n",
    "print(X)\n",
    "print()\n",
    "print(theta)\n",
    "print()\n",
    "print(SSE)"
   ]
  },
  {
   "cell_type": "markdown",
   "metadata": {},
   "source": [
    "# What I've noticed here is that as the degree of the feature increases, the Error also increases\n"
   ]
  },
  {
   "cell_type": "markdown",
   "metadata": {},
   "source": [
    "### h) The model  I consider to be overfitting is the one in d. \n",
    "###     Underfitting is the one in  h"
   ]
  },
  {
   "cell_type": "markdown",
   "metadata": {},
   "source": [
    "## Plot the graph (a)\n"
   ]
  },
  {
   "cell_type": "code",
   "execution_count": 41,
   "metadata": {},
   "outputs": [
    {
     "data": {
      "image/png": "[encoded data removed]",
      "text/plain": [
       "<Figure size 432x288 with 1 Axes>"
      ]
     },
     "metadata": {
      "needs_background": "light"
     },
     "output_type": "display_data"
    }
   ],
   "source": [
    "import matplotlib.pyplot as plt\n",
    "\n",
    "training_data_x = [1,2,3,4,5]\n",
    "training_data_y = [1,5,9,15,25]\n",
    "\n",
    "yHat = np.zeros(len(training_data_x))\n",
    "\n",
    "for i in range(len(yHat)):\n",
    "    yHat[i] = -6.4 + 5.8 * training_data_x[i]\n",
    "\n",
    "plt.scatter(training_data_x,training_data_y)\n",
    "plt.plot(training_data_x, yHat, 'r')\n",
    "plt.grid(True)\n",
    "plt.show()"
   ]
  },
  {
   "cell_type": "markdown",
   "metadata": {},
   "source": [
    "## Plot the graph (d)\n"
   ]
  },
  {
   "cell_type": "code",
   "execution_count": 42,
   "metadata": {},
   "outputs": [
    {
     "data": {
      "image/png": "[encoded data removed]",
      "text/plain": [
       "<Figure size 432x288 with 1 Axes>"
      ]
     },
     "metadata": {
      "needs_background": "light"
     },
     "output_type": "display_data"
    }
   ],
   "source": [
    "features = [1,1,2]\n",
    "X = np.zeros((row, len(features)))\n",
    "\n",
    "for i in range(row):\n",
    "    X[i][0] = 1\n",
    "    \n",
    "for i in range(1,len(features)):\n",
    "    for j in range(row):\n",
    "        X[j][i] = pow(training_data_x[j],features[i])\n",
    "\n",
    "theta = (np.linalg.inv(X.transpose().dot(X))).dot(X.transpose()).dot(training_data_y)\n",
    "for i in range(len(training_data_x)):\n",
    "    yHat[i] = theta[0] + theta[1] * training_data_x[i] + theta[2] * pow(training_data_x[i],2)\n",
    "\n",
    "plt.scatter(training_data_x,training_data_y)\n",
    "plt.plot(training_data_x, yHat, 'r')\n",
    "plt.grid(True)\n",
    "plt.show()"
   ]
  },
  {
   "cell_type": "markdown",
   "metadata": {},
   "source": [
    "## Plot the graph (g)"
   ]
  },
  {
   "cell_type": "code",
   "execution_count": 43,
   "metadata": {},
   "outputs": [
    {
     "data": {
      "image/png": "[encoded data removed]",
      "text/plain": [
       "<Figure size 432x288 with 1 Axes>"
      ]
     },
     "metadata": {
      "needs_background": "light"
     },
     "output_type": "display_data"
    }
   ],
   "source": [
    "features = [1,1,2,3,4,5]\n",
    "X = np.zeros((row, len(features)))\n",
    "\n",
    "for i in range(row):\n",
    "    X[i][0] = 1\n",
    "    \n",
    "for i in range(1,len(features)):\n",
    "    for j in range(row):\n",
    "        X[j][i] = (pow(training_data_x[j],features[i]))\n",
    "\n",
    "theta = (np.linalg.inv(X.transpose().dot(X))).dot(X.transpose()).dot(training_data_y)\n",
    "for i in range(len(training_data_x)):\n",
    "    yHat[i] = theta[0] + theta[1] * training_data_x[i] + theta[2] * pow(training_data_x[i],2) + theta[3] * pow(training_data_x[i],3) + theta[4] * pow(training_data_x[i],4) + theta[2] * pow(training_data_x[i],5)\n",
    "\n",
    "plt.scatter(training_data_x,training_data_y)\n",
    "plt.plot(training_data_x, yHat, 'r')\n",
    "plt.grid(True)\n",
    "plt.show()\n"
   ]
  },
  {
   "cell_type": "code",
   "execution_count": null,
   "metadata": {},
   "outputs": [],
   "source": []
  }
 ],
 "metadata": {
  "kernelspec": {
   "display_name": "Python 3",
   "language": "python",
   "name": "python3"
  },
  "language_info": {
   "codemirror_mode": {
    "name": "ipython",
    "version": 3
   },
   "file_extension": ".py",
   "mimetype": "text/x-python",
   "name": "python",
   "nbconvert_exporter": "python",
   "pygments_lexer": "ipython3",
   "version": "3.7.4"
  }
 },
 "nbformat": 4,
 "nbformat_minor": 2
}
