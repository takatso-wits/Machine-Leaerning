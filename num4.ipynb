{
 "cells": [
  {
   "cell_type": "code",
   "execution_count": null,
   "metadata": {},
   "outputs": [],
   "source": []
  },
  {
   "cell_type": "code",
   "execution_count": 50,
   "metadata": {},
   "outputs": [],
   "source": [
    "import numpy as np\n",
    "import matplotlib.pyplot as plt\n"
   ]
  },
  {
   "cell_type": "code",
   "execution_count": 128,
   "metadata": {},
   "outputs": [],
   "source": [
    "# i. Generate Samples\n",
    "N = 150\n",
    "mean = 0.0\n",
    "standard_deviation = 10.0\n",
    "x = np.zeros(N)\n",
    "for i in range(N):\n",
    "    x[i] = i\n",
    "\n",
    "sample_points = np.random.normal(mean, standard_deviation, N)"
   ]
  },
  {
   "cell_type": "code",
   "execution_count": 129,
   "metadata": {},
   "outputs": [],
   "source": [
    "# ii. Construct a Design Matrix\n",
    "num_features = 3\n",
    "rows = N\n",
    "cols = num_features\n",
    "features = [1,1,2]\n",
    "X = np.zeros((N, num_features))\n",
    "\n",
    "#Design Matrix\n",
    "for i in range(N):\n",
    "    X[i][0] = 1\n",
    "\n",
    "for i in range(1,len(features)):\n",
    "    for j in range(N):\n",
    "        X[j][i] = pow(sample_points[j],features[i])"
   ]
  },
  {
   "cell_type": "code",
   "execution_count": 159,
   "metadata": {},
   "outputs": [],
   "source": [
    "#iii. Sample True values using Uniform Distribution\n",
    "low = -100\n",
    "high = 100\n",
    "true_params = np.random.uniform(low, high, N)"
   ]
  },
  {
   "cell_type": "code",
   "execution_count": 160,
   "metadata": {},
   "outputs": [
    {
     "data": {
      "image/png": "[encoded data removed]",
      "text/plain": [
       "<Figure size 432x288 with 1 Axes>"
      ]
     },
     "metadata": {
      "needs_background": "light"
     },
     "output_type": "display_data"
    }
   ],
   "source": [
    "# iv... Use the design matrix and the true_values to create the y-values\n",
    "true_params = true_params.transpose()\n",
    "y_values = true_params.dot(X)\n",
    "\n",
    "y = np.zeros(N)\n",
    "\n",
    "for i in range(N):\n",
    "    y[i] = y_values[0] + y_values[1] * sample_points[i] + y_values[2] * pow(sample_points[i],2) \n",
    "\n",
    "plt.scatter(sample_points, y)\n",
    "plt.grid(True)\n",
    "plt.show()\n"
   ]
  },
  {
   "cell_type": "markdown",
   "metadata": {},
   "source": [
    "# Part (b)\n",
    "\n",
    "## Use the Moore - Penrose pseudo - inverse to calculate the closed form solution"
   ]
  },
  {
   "cell_type": "code",
   "execution_count": 161,
   "metadata": {},
   "outputs": [
    {
     "name": "stdout",
     "output_type": "stream",
     "text": [
      "[  511.73695851 -4315.98418181 49874.65381583]\n"
     ]
    }
   ],
   "source": [
    "# i...\n",
    "theta = (np.linalg.inv(X.transpose().dot(X))).dot(X.transpose()).dot(y)\n",
    "print(theta)"
   ]
  },
  {
   "cell_type": "code",
   "execution_count": 162,
   "metadata": {},
   "outputs": [
    {
     "data": {
      "image/png": "[encoded data removed]",
      "text/plain": [
       "<Figure size 432x288 with 1 Axes>"
      ]
     },
     "metadata": {
      "needs_background": "light"
     },
     "output_type": "display_data"
    },
    {
     "name": "stdout",
     "output_type": "stream",
     "text": [
      "[ 97  95  98  40 110  93 125  51  58  16 107 123 127  38 144 111 104  90\n",
      " 124  89 142 129  71  70  74  13 136  92  53  63  29  49  14  83 101  82\n",
      "  47 149 128  86   1  36 138  64  26  65  57  68  18 113 147   6   0  84\n",
      "  45 100  88  66  25  19 102  99  10  46  22 137  31 131  37  21  32 115\n",
      " 119  24  81  76  67  54 122  62 121 108 143  96  59 130  85 112  87  35\n",
      "  20 132  91 106  17  11  33  41 114  48  72 148  43  61   4   7 135  44\n",
      "  50  23  80  69  79  34   8  30 146  39 109   5 118  94  55 134  27 103\n",
      "   2  15  42 120  75 141 126 140  60   9  52  56  28 116  73 105 117 133\n",
      "   3  77 139  78  12 145]\n"
     ]
    }
   ],
   "source": [
    "# ii...Learned parameters to the true params\n",
    "new_y = np.zeros(N)\n",
    "\n",
    "for i in range(N):\n",
    "    new_y[i] = theta[0] + theta[1] * sample_points[i] + theta[2] * pow(sample_points[i],2)\n",
    "\n",
    "\n",
    "plt.plot(sample_points,new_y.argsort(),'r')\n",
    "plt.scatter(sample_points, y)\n",
    "plt.grid(True)\n",
    "plt.show()\n",
    "\n",
    "# Get the Error \n",
    "\n",
    "SSE = 0.0\n",
    "for i in range(N):\n",
    "    SSE += 0.5 * (pow(new_y[i] - y[i],2))\n",
    "    \n",
    "print(new_y.argsort())"
   ]
  },
  {
   "cell_type": "code",
   "execution_count": null,
   "metadata": {},
   "outputs": [],
   "source": []
  },
  {
   "cell_type": "code",
   "execution_count": null,
   "metadata": {},
   "outputs": [],
   "source": []
  }
 ],
 "metadata": {
  "kernelspec": {
   "display_name": "Python 3",
   "language": "python",
   "name": "python3"
  },
  "language_info": {
   "codemirror_mode": {
    "name": "ipython",
    "version": 3
   },
   "file_extension": ".py",
   "mimetype": "text/x-python",
   "name": "python",
   "nbconvert_exporter": "python",
   "pygments_lexer": "ipython3",
   "version": "3.7.4"
  }
 },
 "nbformat": 4,
 "nbformat_minor": 2
}
