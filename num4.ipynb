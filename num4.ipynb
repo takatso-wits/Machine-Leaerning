{
 "cells": [
  {
   "cell_type": "code",
   "execution_count": null,
   "metadata": {},
   "outputs": [],
   "source": []
  },
  {
   "cell_type": "code",
   "execution_count": 43,
   "metadata": {},
   "outputs": [],
   "source": [
    "import numpy as np\n",
    "import matplotlib.pyplot as plt\n"
   ]
  },
  {
   "cell_type": "code",
   "execution_count": 44,
   "metadata": {},
   "outputs": [],
   "source": [
    "# i. Generate Samples\n",
    "N = 150\n",
    "mean = 0.0\n",
    "standard_deviation = 10.0\n",
    "x = np.zeros(N)\n",
    "for i in range(N):\n",
    "    x[i] = i\n",
    "\n",
    "sample_points = np.random.normal(mean, standard_deviation, N)"
   ]
  },
  {
   "cell_type": "code",
   "execution_count": 45,
   "metadata": {},
   "outputs": [],
   "source": [
    "# ii. Construct a Design Matrix\n",
    "num_features = 3\n",
    "rows = N\n",
    "cols = num_features\n",
    "features = [1,1,2]\n",
    "X = np.zeros((N, num_features))\n",
    "\n",
    "#Design Matrix\n",
    "for i in range(N):\n",
    "    X[i][0] = 1\n",
    "\n",
    "for i in range(1,len(features)):\n",
    "    for j in range(N):\n",
    "        X[j][i] = pow(sample_points[j],features[i])"
   ]
  },
  {
   "cell_type": "code",
   "execution_count": 46,
   "metadata": {},
   "outputs": [],
   "source": [
    "#iii. Sample True values using Uniform Distribution\n",
    "low = mean\n",
    "high = standard_deviation\n",
    "true_params = np.random.uniform(low, high, N)"
   ]
  },
  {
   "cell_type": "code",
   "execution_count": 47,
   "metadata": {},
   "outputs": [
    {
     "data": {
      "image/png": "[encoded data removed]",
      "text/plain": [
       "<Figure size 432x288 with 1 Axes>"
      ]
     },
     "metadata": {
      "needs_background": "light"
     },
     "output_type": "display_data"
    }
   ],
   "source": [
    "# iv... Use the design matrix and the true_values to create the y-values\n",
    "true_params = true_params.transpose()\n",
    "y_values = true_params.dot(X)\n",
    "\n",
    "y = np.zeros(N)\n",
    "\n",
    "for i in range(N):\n",
    "    y[i] = y_values[0] + y_values[1] * sample_points[i] + y_values[2] * pow(sample_points[i],2) \n",
    "\n",
    "plt.scatter(sample_points, y)\n",
    "plt.grid(True)\n",
    "plt.show()\n"
   ]
  },
  {
   "cell_type": "markdown",
   "metadata": {},
   "source": [
    "# Part (b)\n",
    "\n",
    "## Use the Moore - Penrose pseudo - inverse to calculate the closed form solution"
   ]
  },
  {
   "cell_type": "code",
   "execution_count": 48,
   "metadata": {},
   "outputs": [
    {
     "name": "stdout",
     "output_type": "stream",
     "text": [
      "[  740.82812175  -391.94593726 77659.88778828]\n"
     ]
    }
   ],
   "source": [
    "# i...\n",
    "theta = (np.linalg.inv(X.transpose().dot(X))).dot(X.transpose()).dot(y)\n",
    "print(theta)"
   ]
  },
  {
   "cell_type": "code",
   "execution_count": 69,
   "metadata": {},
   "outputs": [
    {
     "name": "stdout",
     "output_type": "stream",
     "text": [
      "(150, 3)\n"
     ]
    },
    {
     "data": {
      "image/png": "[encoded data removed]",
      "text/plain": [
       "<Figure size 432x288 with 1 Axes>"
      ]
     },
     "metadata": {
      "needs_background": "light"
     },
     "output_type": "display_data"
    }
   ],
   "source": [
    "# ii...Learned parameters to the true params\n",
    "new_y = np.zeros((N,num_features))\n",
    "\n",
    "#Design Matrix\n",
    "print(np.shape(new_y))\n",
    "for i in range(N):\n",
    "    X[i][0] = 1\n",
    "\n",
    "for i in range(1,len(features)):\n",
    "    for j in range(N):\n",
    "        X[j][i] = pow(sample_points[j],features[i])\n",
    "        \n",
    "for i in range(num_features):\n",
    "    for j in range(N):\n",
    "        new_y[j][i] = theta[0] + theta[1] * X[j][i] + theta[2] * pow(X[j][i],2)\n",
    "\n",
    "plt.scatter(sample_points, y)\n",
    "plt.plot(X,new_y,'g')\n",
    "plt.grid(True)\n",
    "plt.show()\n",
    "\n",
    "\n",
    "# Get the Error \n",
    "\n",
    "SSE = 0.0\n",
    "for i in range(N):\n",
    "    SSE += 0.5 * (pow(new_y[i] - y[i],2))\n",
    "    \n"
   ]
  },
  {
   "cell_type": "code",
   "execution_count": null,
   "metadata": {},
   "outputs": [],
   "source": []
  },
  {
   "cell_type": "code",
   "execution_count": null,
   "metadata": {},
   "outputs": [],
   "source": []
  }
 ],
 "metadata": {
  "kernelspec": {
   "display_name": "Python 3",
   "language": "python",
   "name": "python3"
  },
  "language_info": {
   "codemirror_mode": {
    "name": "ipython",
    "version": 3
   },
   "file_extension": ".py",
   "mimetype": "text/x-python",
   "name": "python",
   "nbconvert_exporter": "python",
   "pygments_lexer": "ipython3",
   "version": "3.7.4"
  }
 },
 "nbformat": 4,
 "nbformat_minor": 2
}
