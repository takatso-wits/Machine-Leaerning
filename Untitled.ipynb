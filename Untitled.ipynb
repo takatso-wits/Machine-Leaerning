{
 "cells": [
  {
   "cell_type": "code",
   "execution_count": 19,
   "metadata": {},
   "outputs": [],
   "source": [
    "import numpy as np\n",
    "import random"
   ]
  },
  {
   "cell_type": "code",
   "execution_count": 30,
   "metadata": {},
   "outputs": [
    {
     "name": "stdout",
     "output_type": "stream",
     "text": [
      "['' '-1 the food tasted awful' '-1 the food was really bad'\n",
      " '-1 the meal was terrible' '-1 the service and the food was terrible'\n",
      " '-1 the service is terrible' '-1 this is a bad restaurant  '\n",
      " '-1 we had a terrible experience'\n",
      " '1 i enjoyed the experience at the restaurant' '1 my food tasted great'\n",
      " '1 this is a great restaurant' '1 we had a lovely meal']\n",
      "6\n"
     ]
    }
   ],
   "source": [
    "#Read data from the file\n",
    "size_training_data = 12\n",
    "size_test_data = 6\n",
    "\n",
    "data_file = open(\"simple-food-reviews.txt\", 'r')\n",
    "data_string = data_file.read()\n",
    "\n",
    "full_data = np.array(data_string.split('\\n'))\n",
    "np.random.shuffle(full_data)\n",
    "training_data = full_data[0:12]\n",
    "test_data = full_data[13:19]\n",
    "training_data = np.sort(training_data)\n",
    "print(training_data)\n",
    "\n",
    "print(len(test_data))"
   ]
  },
  {
   "cell_type": "code",
   "execution_count": null,
   "metadata": {},
   "outputs": [],
   "source": []
  }
 ],
 "metadata": {
  "kernelspec": {
   "display_name": "Python 3",
   "language": "python",
   "name": "python3"
  },
  "language_info": {
   "codemirror_mode": {
    "name": "ipython",
    "version": 3
   },
   "file_extension": ".py",
   "mimetype": "text/x-python",
   "name": "python",
   "nbconvert_exporter": "python",
   "pygments_lexer": "ipython3",
   "version": "3.7.4"
  }
 },
 "nbformat": 4,
 "nbformat_minor": 2
}
